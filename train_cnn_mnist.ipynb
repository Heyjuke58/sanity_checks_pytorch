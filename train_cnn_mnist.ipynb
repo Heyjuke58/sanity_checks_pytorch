{
 "cells": [
  {
   "cell_type": "code",
   "execution_count": 1,
   "source": [
    "from torchvision import datasets, transforms\n",
    "import torch\n",
    "import torch.nn.functional as F\n",
    "\n",
    "\n",
    "# Hyperparams\n",
    "batch_size = 50\n",
    "loss_func = F.cross_entropy\n",
    "epochs = 50\n",
    "\n",
    "# GPU/CPU\n",
    "device = torch.device(\"cuda\") if torch.cuda.is_available() else torch.device(\"cpu\")\n",
    "print(device)\n",
    "use_cuda = torch.cuda.is_available()\n",
    "\n",
    "# Datasets\n",
    "train_kwargs = {'batch_size': batch_size, 'shuffle': True}\n",
    "val_kwargs = {'batch_size': batch_size}\n",
    "if use_cuda:\n",
    "    cuda_kwargs = {'num_workers': 1,\n",
    "                   'pin_memory': True}\n",
    "    train_kwargs.update(cuda_kwargs)\n",
    "    val_kwargs.update(cuda_kwargs)\n",
    "\n",
    "transform=transforms.Compose([\n",
    "        transforms.ToTensor(),\n",
    "        transforms.Normalize((0.1307,), (0.3081,))\n",
    "    ])\n",
    "dataset = datasets.MNIST('data', train=True, download=True, transform=transform)\n",
    "dataset1, dataset2 = torch.utils.data.random_split(dataset, [55000, 5000])\n",
    "\n",
    "train_loader = torch.utils.data.DataLoader(dataset1, **train_kwargs)\n",
    "val_loader = torch.utils.data.DataLoader(dataset2, **val_kwargs)"
   ],
   "outputs": [
    {
     "output_type": "stream",
     "name": "stdout",
     "text": [
      "cuda\n"
     ]
    }
   ],
   "metadata": {}
  },
  {
   "cell_type": "code",
   "execution_count": 2,
   "source": [
    "import torch.nn as nn\n",
    "from collections import OrderedDict\n",
    "\n",
    "# model\n",
    "    \n",
    "model = nn.Sequential(OrderedDict([\n",
    "    ('conv1', nn.Conv2d(1, 32, 5, 1, padding=(2, 2))),\n",
    "    ('relu1', nn.ReLU()),\n",
    "    ('maxpool1', nn.MaxPool2d(2)),\n",
    "    ('conv2', nn.Conv2d(32, 64, 5, 1, padding=(2, 2))),\n",
    "    ('relu2', nn.ReLU()),\n",
    "    ('maxpool2', nn.MaxPool2d(2)),\n",
    "    ('flatten', nn.Flatten()),\n",
    "    ('linear1', nn.Linear(7 * 7 * 64, 1024)),\n",
    "    ('relu3', nn.ReLU()),\n",
    "    ('linear2', nn.Linear(1024, 10))\n",
    "]))\n",
    "\n",
    "model.to(device)"
   ],
   "outputs": [
    {
     "output_type": "execute_result",
     "data": {
      "text/plain": [
       "Sequential(\n",
       "  (conv1): Conv2d(1, 32, kernel_size=(5, 5), stride=(1, 1), padding=(2, 2))\n",
       "  (relu1): ReLU()\n",
       "  (maxpool1): MaxPool2d(kernel_size=2, stride=2, padding=0, dilation=1, ceil_mode=False)\n",
       "  (conv2): Conv2d(32, 64, kernel_size=(5, 5), stride=(1, 1), padding=(2, 2))\n",
       "  (relu2): ReLU()\n",
       "  (maxpool2): MaxPool2d(kernel_size=2, stride=2, padding=0, dilation=1, ceil_mode=False)\n",
       "  (flatten): Flatten(start_dim=1, end_dim=-1)\n",
       "  (linear1): Linear(in_features=3136, out_features=1024, bias=True)\n",
       "  (relu3): ReLU()\n",
       "  (linear2): Linear(in_features=1024, out_features=10, bias=True)\n",
       ")"
      ]
     },
     "metadata": {},
     "execution_count": 2
    }
   ],
   "metadata": {}
  },
  {
   "cell_type": "code",
   "execution_count": 3,
   "source": [
    "params = model[9].weight\n",
    "bias = model[0].bias\n",
    "params.shape"
   ],
   "outputs": [
    {
     "output_type": "execute_result",
     "data": {
      "text/plain": [
       "torch.Size([10, 1024])"
      ]
     },
     "metadata": {},
     "execution_count": 3
    }
   ],
   "metadata": {}
  },
  {
   "cell_type": "code",
   "execution_count": 4,
   "source": [
    "# optimizer\n",
    "import torch.optim as optim\n",
    "\n",
    "learning_rate = 1e-4\n",
    "optimizer = optim.Adam(model.parameters(), lr=learning_rate)"
   ],
   "outputs": [],
   "metadata": {}
  },
  {
   "cell_type": "code",
   "execution_count": 5,
   "source": [
    "def accuracy(out, yb):\n",
    "    preds = torch.argmax(out, dim=1)\n",
    "    return (preds == yb).float().mean()\n",
    "\n",
    "# Training\n",
    "best_val_acc = 0\n",
    "\n",
    "for epoch in range(epochs):\n",
    "    model.train()\n",
    "    for batch_idx, (data, target) in enumerate(train_loader):\n",
    "        data, target = data.to(device), target.to(device)\n",
    "        optimizer.zero_grad()\n",
    "        output = model(data)\n",
    "        loss = loss_func(output, target)\n",
    "        loss.backward()\n",
    "        optimizer.step()\n",
    "    with torch.no_grad():\n",
    "        model.eval()\n",
    "        val_acc = 0\n",
    "        for batch_idx, (data, target) in enumerate(val_loader):\n",
    "            data, target = data.to(device), target.to(device)\n",
    "            output = model(data)\n",
    "            val_acc += accuracy(output, target)\n",
    "    \n",
    "        val_acc = val_acc / len(val_loader)\n",
    "\n",
    "        print(f'Validation accuracy after {epoch + 1} epoch(s): {val_acc}')\n",
    "\n",
    "        if val_acc > best_val_acc:\n",
    "            best_val_acc = val_acc\n",
    "            # UNCOMMENT THE LINE BELOW TO SAVE THE MODEL!\n",
    "            # torch.save(model, 'models/cnn_mnist.pt')\n",
    "        "
   ],
   "outputs": [
    {
     "output_type": "stream",
     "name": "stderr",
     "text": [
      "/home/konrad/miniconda3/envs/sanity_checks_pytorch/lib/python3.9/site-packages/torch/nn/functional.py:718: UserWarning: Named tensors and all their associated APIs are an experimental feature and subject to change. Please do not use them for anything important until they are released as stable. (Triggered internally at  /opt/conda/conda-bld/pytorch_1623448255797/work/c10/core/TensorImpl.h:1156.)\n",
      "  return torch.max_pool2d(input, kernel_size, stride, padding, dilation, ceil_mode)\n"
     ]
    },
    {
     "output_type": "stream",
     "name": "stdout",
     "text": [
      "Validation accuracy after 1 epoch(s): 0.9784002304077148\n",
      "Validation accuracy after 2 epoch(s): 0.9880004525184631\n",
      "Validation accuracy after 3 epoch(s): 0.9884003400802612\n",
      "Validation accuracy after 4 epoch(s): 0.9910004138946533\n",
      "Validation accuracy after 5 epoch(s): 0.9884001612663269\n",
      "Validation accuracy after 6 epoch(s): 0.9902002215385437\n",
      "Validation accuracy after 7 epoch(s): 0.9922001957893372\n",
      "Validation accuracy after 8 epoch(s): 0.9902001619338989\n",
      "Validation accuracy after 9 epoch(s): 0.9898003935813904\n",
      "Validation accuracy after 10 epoch(s): 0.9914001822471619\n",
      "Validation accuracy after 11 epoch(s): 0.9890002012252808\n",
      "Validation accuracy after 12 epoch(s): 0.989800214767456\n",
      "Validation accuracy after 13 epoch(s): 0.9888001680374146\n",
      "Validation accuracy after 14 epoch(s): 0.990800142288208\n",
      "Validation accuracy after 15 epoch(s): 0.992000162601471\n",
      "Validation accuracy after 16 epoch(s): 0.9914001226425171\n",
      "Validation accuracy after 17 epoch(s): 0.9916003346443176\n",
      "Validation accuracy after 18 epoch(s): 0.9918003678321838\n",
      "Validation accuracy after 19 epoch(s): 0.9918001890182495\n",
      "Validation accuracy after 20 epoch(s): 0.9926000833511353\n",
      "Validation accuracy after 21 epoch(s): 0.9922001361846924\n",
      "Validation accuracy after 22 epoch(s): 0.9904001951217651\n",
      "Validation accuracy after 23 epoch(s): 0.9932001829147339\n",
      "Validation accuracy after 24 epoch(s): 0.9892001748085022\n",
      "Validation accuracy after 25 epoch(s): 0.9924001097679138\n",
      "Validation accuracy after 26 epoch(s): 0.9910001158714294\n",
      "Validation accuracy after 27 epoch(s): 0.9922001957893372\n",
      "Validation accuracy after 28 epoch(s): 0.9904001355171204\n",
      "Validation accuracy after 29 epoch(s): 0.9920001029968262\n",
      "Validation accuracy after 30 epoch(s): 0.993800163269043\n",
      "Validation accuracy after 31 epoch(s): 0.9934000372886658\n",
      "Validation accuracy after 32 epoch(s): 0.9936001300811768\n",
      "Validation accuracy after 33 epoch(s): 0.9938002824783325\n",
      "Validation accuracy after 34 epoch(s): 0.9932001829147339\n",
      "Validation accuracy after 35 epoch(s): 0.9930001497268677\n",
      "Validation accuracy after 36 epoch(s): 0.9932001233100891\n",
      "Validation accuracy after 37 epoch(s): 0.9934001564979553\n",
      "Validation accuracy after 38 epoch(s): 0.9940001964569092\n",
      "Validation accuracy after 39 epoch(s): 0.9940001964569092\n",
      "Validation accuracy after 40 epoch(s): 0.9936001896858215\n",
      "Validation accuracy after 41 epoch(s): 0.9940001368522644\n",
      "Validation accuracy after 42 epoch(s): 0.9940001964569092\n",
      "Validation accuracy after 43 epoch(s): 0.9904000759124756\n",
      "Validation accuracy after 44 epoch(s): 0.9930000901222229\n",
      "Validation accuracy after 45 epoch(s): 0.9926002025604248\n",
      "Validation accuracy after 46 epoch(s): 0.9942000508308411\n",
      "Validation accuracy after 47 epoch(s): 0.9940001368522644\n",
      "Validation accuracy after 48 epoch(s): 0.9940000772476196\n",
      "Validation accuracy after 49 epoch(s): 0.9942001104354858\n",
      "Validation accuracy after 50 epoch(s): 0.9940001368522644\n"
     ]
    }
   ],
   "metadata": {}
  }
 ],
 "metadata": {
  "kernelspec": {
   "name": "python3",
   "display_name": "Python 3.9.5 64-bit ('sanity_checks_pytorch': conda)"
  },
  "language_info": {
   "codemirror_mode": {
    "name": "ipython",
    "version": 3
   },
   "file_extension": ".py",
   "mimetype": "text/x-python",
   "name": "python",
   "nbconvert_exporter": "python",
   "pygments_lexer": "ipython3",
   "version": "3.9.5"
  },
  "interpreter": {
   "hash": "11fbf37fbd24df55005c3b93a6722ff80f8e94e0a7328b0b9ff32e8c2e8e8123"
  }
 },
 "nbformat": 4,
 "nbformat_minor": 5
}