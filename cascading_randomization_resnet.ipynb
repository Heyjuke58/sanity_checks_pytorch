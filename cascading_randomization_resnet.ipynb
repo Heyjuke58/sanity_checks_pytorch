{
 "cells": [
  {
   "cell_type": "markdown",
   "source": [
    "# Sanity Check (Cascading Randomization) for Saliency Maps: ResNet-18 ImageNet Example"
   ],
   "metadata": {}
  },
  {
   "cell_type": "code",
   "execution_count": 1,
   "source": [
    "%%capture\n",
    "from torchvision import transforms, models\n",
    "import torch\n",
    "import numpy as np\n",
    "import matplotlib.pyplot as plt\n",
    "from src import util\n",
    "from captum.attr import IntegratedGradients, Saliency, InputXGradient, GuidedBackprop\n",
    "from src import util\n",
    "import PIL\n",
    "from ntpath import basename\n",
    "import os\n",
    "import random\n",
    "\n",
    "resnet = models.resnet18(pretrained=True)\n",
    "resnet.eval()"
   ],
   "outputs": [],
   "metadata": {}
  },
  {
   "cell_type": "code",
   "execution_count": 2,
   "source": [
    "def preprocess_image(file_path):\n",
    "    img = PIL.Image.open(file_path).convert('RGB')\n",
    "    preprocess = transforms.Compose([\n",
    "        transforms.Resize(256),\n",
    "        transforms.CenterCrop(224),\n",
    "        transforms.ToTensor(),\n",
    "        transforms.Normalize(mean=[0.485, 0.456, 0.406], std=[0.229, 0.224, 0.225]),\n",
    "    ])\n",
    "    img = preprocess(img)\n",
    "    return img.unsqueeze(0)\n",
    "\n",
    "def get_image_and_label(file_path, image_net_cls, normalize=False):\n",
    "    img = PIL.Image.open(file_path).convert('RGB')\n",
    "    img_name = basename(file_path)\n",
    "    cls_name = img_name[img_name.find('_') + 1:img_name.find('.')].replace('_', ' ')\n",
    "    label = image_net_cls[cls_name]\n",
    "    if not normalize:\n",
    "        preprocess = transforms.Compose([\n",
    "            transforms.Resize(256),\n",
    "            transforms.CenterCrop(224),\n",
    "            transforms.ToTensor()\n",
    "        ])\n",
    "        img = preprocess(img)\n",
    "        return img, label\n",
    "    else:\n",
    "        preprocess = transforms.Compose([\n",
    "            transforms.Resize(256),\n",
    "            transforms.CenterCrop(224),\n",
    "            transforms.ToTensor(),\n",
    "            transforms.Normalize(mean=[0.485, 0.456, 0.406], std=[0.229, 0.224, 0.225]),\n",
    "        ])\n",
    "        img = preprocess(img)\n",
    "        return img, label\n",
    "\n",
    "\n",
    "class MyDataset(torch.utils.data.Dataset):\n",
    "    def __init__(self, dir_path):\n",
    "        super(MyDataset).__init__()\n",
    "        self.dir_path = dir_path\n",
    "        self.files = [img for img in sorted(os.listdir(dir_path)) if img.endswith(\".JPEG\")]\n",
    "        with open(\"imagenet_classes.txt\", \"r\") as f:\n",
    "            self.image_net_cls = {s.strip(): idx for idx, s in enumerate(f.readlines())}\n",
    "\n",
    "    def __getitem__(self, idx):\n",
    "        file_name = self.files[idx]\n",
    "        return get_image_and_label(os.path.join(self.dir_path, file_name), self.image_net_cls, normalize=True)\n",
    "\n",
    "    def __len__(self):\n",
    "        return len(self.files)\n",
    "\n",
    "\n",
    "class MyOriginalImages(MyDataset):\n",
    "    def __init__(self, dir_path):\n",
    "        super().__init__(dir_path)\n",
    "\n",
    "\n",
    "    def __getitem__(self, idx):\n",
    "        file_name = self.files[idx]\n",
    "        return get_image_and_label(os.path.join(self.dir_path, file_name), self.image_net_cls, normalize=False)\n",
    "\n",
    "\n",
    "with open(\"imagenet_classes.txt\", \"r\") as f:\n",
    "    cls_index_to_name = {idx: s.strip() for idx, s in enumerate(f.readlines())}"
   ],
   "outputs": [],
   "metadata": {}
  },
  {
   "cell_type": "code",
   "execution_count": 3,
   "source": [
    "dataset = MyDataset('imagenet-sample-images')\n",
    "originals = MyOriginalImages('imagenet-sample-images')\n",
    "# full dataset loader\n",
    "# important that batch is 1!\n",
    "# important that shuffle is False!\n",
    "full_loader = torch.utils.data.DataLoader(dataset, batch_size=1, shuffle=False)\n",
    "\n",
    "samples = [340, 4, 13, 430, 339] # zebra, hammerhead, junco, basketball, sorrel\n",
    "dataset_subset = torch.utils.data.Subset(dataset, samples)\n",
    "originals_subset = torch.utils.data.Subset(originals, samples)\n",
    "random.seed(123)\n",
    "big_dataset_subset = torch.utils.data.Subset(originals, random.sample(range(1000), 20))\n",
    "\n",
    "# important that batch is 1!\n",
    "# important that shuffle is False!\n",
    "dataset_loader = torch.utils.data.DataLoader(dataset_subset, batch_size=1, shuffle=False)\n",
    "originals_loader = torch.utils.data.DataLoader(originals_subset, batch_size=1, shuffle=False)\n",
    "big_loader = torch.utils.data.DataLoader(big_dataset_subset, batch_size=1, shuffle=False)\n",
    "\n",
    "\n"
   ],
   "outputs": [],
   "metadata": {}
  },
  {
   "cell_type": "code",
   "execution_count": 4,
   "source": [
    "# define module paths for cascading randomization\n",
    "module_paths = [\n",
    "    ['fc'],\n",
    "    ['layer4', '1'], ['layer4', '0'],\n",
    "    ['layer3', '1'], ['layer3', '0'],\n",
    "    ['layer2', '1'], ['layer2', '0'],\n",
    "    ['layer1', '1'], ['layer1', '0'],\n",
    "    ['bn1'], ['conv1']\n",
    "]"
   ],
   "outputs": [],
   "metadata": {}
  },
  {
   "cell_type": "code",
   "execution_count": 7,
   "source": [
    "%matplotlib agg\n",
    "# visualize integrated gradients\n",
    "fig, _ = util.visualize_cascading_randomization(resnet, module_paths, (InputXGradient, False), dataset_loader, originals_loader, cls_index_to_name, viz_method=\"blended_heat_map\")\n",
    "fig.savefig(\"figures/resnet-imagenet/inputxgradient_cascrand.png\", bbox_inches=\"tight\")"
   ],
   "outputs": [],
   "metadata": {
    "scrolled": true
   }
  },
  {
   "cell_type": "code",
   "execution_count": 8,
   "source": [
    "%matplotlib agg\n",
    "fig, _ = util.visualize_cascading_randomization(resnet, module_paths, (InputXGradient, True), dataset_loader, originals_loader, cls_index_to_name, viz_method=\"blended_heat_map\")\n",
    "fig.savefig(\"figures/resnet-imagenet/inputxgradient_smoothing_cascrand.png\", bbox_inches=\"tight\")"
   ],
   "outputs": [],
   "metadata": {}
  },
  {
   "cell_type": "code",
   "execution_count": 6,
   "source": [
    "%matplotlib agg\n",
    "# multiple saliency maps for each example\n",
    "for (image, label), (original, _) in zip(dataset_loader, originals_loader):\n",
    "    fig, _ = util.visualize_cascading_randomization2(\n",
    "        resnet,\n",
    "        module_paths,\n",
    "        [(Saliency, False), (Saliency, True), (InputXGradient, False), (InputXGradient, True), (GuidedBackprop, False), (IntegratedGradients, False), (IntegratedGradients, True)],\n",
    "        ['Gradient', 'SmoothGrad', 'Gradient ⊙ Input', 'Gradient ⊙ Input-SG' 'Guided Back-propagation', 'Integrated Gradients', 'Integrated Gradients-SG'],\n",
    "        (image, label),\n",
    "        original,\n",
    "        viz_method=\"heat_map\"\n",
    "    )\n",
    "    fig.savefig(\"figures/resnet-imagenet/cascrand.png\", bbox_inches=\"tight\")\n",
    "    break"
   ],
   "outputs": [
    {
     "output_type": "stream",
     "name": "stderr",
     "text": [
      "/home/konrad/miniconda3/envs/sanity_checks_pytorch/lib/python3.9/site-packages/captum/attr/_core/guided_backprop_deconvnet.py:60: UserWarning: Setting backward hooks on ReLU activations.The hooks will be removed after the attribution is finished\n",
      "  warnings.warn(\n",
      "/home/konrad/miniconda3/envs/sanity_checks_pytorch/lib/python3.9/site-packages/torch/nn/modules/module.py:974: UserWarning: Using a non-full backward hook when the forward contains multiple autograd Nodes is deprecated and will be removed in future versions. This hook will be missing some grad_input. Please use register_full_backward_hook to get the documented behavior.\n",
      "  warnings.warn(\"Using a non-full backward hook when the forward contains multiple autograd Nodes \"\n",
      "/home/konrad/miniconda3/envs/sanity_checks_pytorch/lib/python3.9/site-packages/captum/attr/_utils/visualization.py:44: UserWarning: Attempting to normalize by value approximately 0, visualized resultsmay be misleading. This likely means that attribution values are allclose to 0.\n",
      "  warnings.warn(\n"
     ]
    }
   ],
   "metadata": {
    "scrolled": false
   }
  },
  {
   "cell_type": "code",
   "execution_count": 5,
   "source": [
    "dic = util.ssim_saliency_comparison(\n",
    "    resnet,\n",
    "    module_paths,\n",
    "        [(Saliency, False), (Saliency, True), (InputXGradient, False), (InputXGradient, True), (GuidedBackprop, False), (IntegratedGradients, False)],\n",
    "        ['Gradient', 'SmoothGrad', 'Gradient ⊙ Input', 'Gradient ⊙ Input-SG', 'Guided Back-propagation', 'Integrated Gradients'], # integrated gradients takes a really long time\n",
    "    big_loader\n",
    "    )"
   ],
   "outputs": [
    {
     "output_type": "stream",
     "name": "stderr",
     "text": [
      "/home/konrad/miniconda3/envs/sanity_checks_pytorch/lib/python3.9/site-packages/captum/_utils/gradient.py:57: UserWarning: Input Tensor 0 did not already require gradients, required_grads has been set automatically.\n",
      "  warnings.warn(\n",
      "/home/konrad/miniconda3/envs/sanity_checks_pytorch/lib/python3.9/site-packages/torch/nn/functional.py:718: UserWarning: Named tensors and all their associated APIs are an experimental feature and subject to change. Please do not use them for anything important until they are released as stable. (Triggered internally at  /opt/conda/conda-bld/pytorch_1623448255797/work/c10/core/TensorImpl.h:1156.)\n",
      "  return torch.max_pool2d(input, kernel_size, stride, padding, dilation, ceil_mode)\n",
      "/home/konrad/miniconda3/envs/sanity_checks_pytorch/lib/python3.9/site-packages/captum/attr/_core/guided_backprop_deconvnet.py:60: UserWarning: Setting backward hooks on ReLU activations.The hooks will be removed after the attribution is finished\n",
      "  warnings.warn(\n",
      "/home/konrad/miniconda3/envs/sanity_checks_pytorch/lib/python3.9/site-packages/torch/nn/modules/module.py:974: UserWarning: Using a non-full backward hook when the forward contains multiple autograd Nodes is deprecated and will be removed in future versions. This hook will be missing some grad_input. Please use register_full_backward_hook to get the documented behavior.\n",
      "  warnings.warn(\"Using a non-full backward hook when the forward contains multiple autograd Nodes \"\n"
     ]
    },
    {
     "output_type": "stream",
     "name": "stdout",
     "text": [
      "layer: 1 of 11\n"
     ]
    },
    {
     "output_type": "stream",
     "name": "stderr",
     "text": [
      "/home/konrad/Documents/Uni/DL/sanity_checks_pytorch/src/util.py:229: UserWarning: DEPRECATED: skimage.measure.compare_ssim has been moved to skimage.metrics.structural_similarity. It will be removed from skimage.measure in version 0.18.\n",
      "  ssim_score = compare_ssim(original_explanations[(img_id, sal_id)], attribution, multichannel=True, gaussian_weights=True) # calculate ssim score with original attribution and add to sum\n"
     ]
    },
    {
     "output_type": "stream",
     "name": "stdout",
     "text": [
      "layer: 2 of 11\n",
      "layer: 3 of 11\n",
      "layer: 4 of 11\n",
      "layer: 5 of 11\n",
      "layer: 6 of 11\n",
      "SSIM score is nan\n",
      "Error with image: 2, sal method: Guided Back-propagation, path: layer2_1\n",
      "SSIM score is nan\n",
      "Error with image: 11, sal method: Guided Back-propagation, path: layer2_1\n",
      "SSIM score is nan\n",
      "Error with image: 15, sal method: Guided Back-propagation, path: layer2_1\n",
      "SSIM score is nan\n",
      "Error with image: 17, sal method: Guided Back-propagation, path: layer2_1\n",
      "layer: 7 of 11\n",
      "SSIM score is nan\n",
      "Error with image: 9, sal method: Guided Back-propagation, path: layer2_0\n",
      "layer: 8 of 11\n",
      "SSIM score is nan\n",
      "Error with image: 0, sal method: Guided Back-propagation, path: layer1_1\n",
      "SSIM score is nan\n",
      "Error with image: 2, sal method: Guided Back-propagation, path: layer1_1\n",
      "SSIM score is nan\n",
      "Error with image: 4, sal method: Guided Back-propagation, path: layer1_1\n",
      "SSIM score is nan\n",
      "Error with image: 5, sal method: Guided Back-propagation, path: layer1_1\n",
      "SSIM score is nan\n",
      "Error with image: 6, sal method: Guided Back-propagation, path: layer1_1\n",
      "SSIM score is nan\n",
      "Error with image: 7, sal method: Guided Back-propagation, path: layer1_1\n",
      "SSIM score is nan\n",
      "Error with image: 9, sal method: Guided Back-propagation, path: layer1_1\n",
      "SSIM score is nan\n",
      "Error with image: 10, sal method: Guided Back-propagation, path: layer1_1\n",
      "SSIM score is nan\n",
      "Error with image: 16, sal method: Guided Back-propagation, path: layer1_1\n",
      "SSIM score is nan\n",
      "Error with image: 17, sal method: Guided Back-propagation, path: layer1_1\n",
      "SSIM score is nan\n",
      "Error with image: 18, sal method: Guided Back-propagation, path: layer1_1\n",
      "layer: 9 of 11\n",
      "layer: 10 of 11\n",
      "layer: 11 of 11\n"
     ]
    }
   ],
   "metadata": {}
  },
  {
   "cell_type": "code",
   "execution_count": 6,
   "source": [
    "%matplotlib agg\n",
    "fig = plt.figure(figsize=(15, 6))\n",
    "ax = fig.subplots()\n",
    "#plot similarities\n",
    "colors = ['#c44e52', '#cf171d', '#ccb974', '#d4ae26', '#55a868', '#8172b3']\n",
    "for (key, value), color in zip(dic.items(), colors):\n",
    "    ax.plot(\n",
    "        ['original'] + list(value.keys()), [1] + list(value.values()),\n",
    "        label=key,\n",
    "        linestyle='dashed', linewidth=3.5, marker='o', markersize=10, color=color\n",
    "    )\n",
    "\n",
    "ax.grid(True)\n",
    "ax.legend()\n",
    "fig.savefig(\"figures/resnet-imagenet/ssim_cascrand_20.png\", bbox_inches=\"tight\")"
   ],
   "outputs": [],
   "metadata": {}
  }
 ],
 "metadata": {
  "kernelspec": {
   "name": "python3",
   "display_name": "Python 3.9.5 64-bit ('sanity_checks_pytorch': conda)"
  },
  "language_info": {
   "codemirror_mode": {
    "name": "ipython",
    "version": 3
   },
   "file_extension": ".py",
   "mimetype": "text/x-python",
   "name": "python",
   "nbconvert_exporter": "python",
   "pygments_lexer": "ipython3",
   "version": "3.9.5"
  },
  "interpreter": {
   "hash": "11fbf37fbd24df55005c3b93a6722ff80f8e94e0a7328b0b9ff32e8c2e8e8123"
  }
 },
 "nbformat": 4,
 "nbformat_minor": 5
}