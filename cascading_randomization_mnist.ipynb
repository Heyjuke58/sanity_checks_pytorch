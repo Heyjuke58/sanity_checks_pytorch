{
 "cells": [
  {
   "cell_type": "code",
   "execution_count": 1,
   "id": "b3cb4cca",
   "metadata": {},
   "outputs": [
    {
     "name": "stdout",
     "output_type": "stream",
     "text": [
      "true: 4, pred: 4\n"
     ]
    },
    {
     "name": "stderr",
     "output_type": "stream",
     "text": [
      "/home/asubuntus/miniconda3/envs/sanity_checks_pytorch/lib/python3.9/site-packages/torch/nn/functional.py:718: UserWarning: Named tensors and all their associated APIs are an experimental feature and subject to change. Please do not use them for anything important until they are released as stable. (Triggered internally at  /opt/conda/conda-bld/pytorch_1623448255797/work/c10/core/TensorImpl.h:1156.)\n",
      "  return torch.max_pool2d(input, kernel_size, stride, padding, dilation, ceil_mode)\n"
     ]
    },
    {
     "data": {
      "image/png": "[encoded data removed]",
      "text/plain": [
       "<Figure size 432x288 with 1 Axes>"
      ]
     },
     "metadata": {
      "needs_background": "light"
     },
     "output_type": "display_data"
    },
    {
     "name": "stdout",
     "output_type": "stream",
     "text": [
      "true: 1, pred: 1\n"
     ]
    },
    {
     "data": {
      "image/png": "[encoded data removed]",
      "text/plain": [
       "<Figure size 432x288 with 1 Axes>"
      ]
     },
     "metadata": {
      "needs_background": "light"
     },
     "output_type": "display_data"
    },
    {
     "name": "stdout",
     "output_type": "stream",
     "text": [
      "true: 3, pred: 3\n"
     ]
    },
    {
     "data": {
      "image/png": "[encoded data removed]",
      "text/plain": [
       "<Figure size 432x288 with 1 Axes>"
      ]
     },
     "metadata": {
      "needs_background": "light"
     },
     "output_type": "display_data"
    },
    {
     "name": "stdout",
     "output_type": "stream",
     "text": [
      "true: 8, pred: 8\n"
     ]
    },
    {
     "data": {
      "image/png": "[encoded data removed]",
      "text/plain": [
       "<Figure size 432x288 with 1 Axes>"
      ]
     },
     "metadata": {
      "needs_background": "light"
     },
     "output_type": "display_data"
    },
    {
     "name": "stdout",
     "output_type": "stream",
     "text": [
      "true: 5, pred: 5\n"
     ]
    },
    {
     "data": {
      "image/png": "[encoded data removed]",
      "text/plain": [
       "<Figure size 432x288 with 1 Axes>"
      ]
     },
     "metadata": {
      "needs_background": "light"
     },
     "output_type": "display_data"
    },
    {
     "name": "stdout",
     "output_type": "stream",
     "text": [
      "true: 5, pred: 5\n"
     ]
    },
    {
     "data": {
      "image/png": "[encoded data removed]",
      "text/plain": [
       "<Figure size 432x288 with 1 Axes>"
      ]
     },
     "metadata": {
      "needs_background": "light"
     },
     "output_type": "display_data"
    },
    {
     "name": "stdout",
     "output_type": "stream",
     "text": [
      "true: 7, pred: 7\n"
     ]
    },
    {
     "data": {
      "image/png": "[encoded data removed]",
      "text/plain": [
       "<Figure size 432x288 with 1 Axes>"
      ]
     },
     "metadata": {
      "needs_background": "light"
     },
     "output_type": "display_data"
    },
    {
     "name": "stdout",
     "output_type": "stream",
     "text": [
      "true: 9, pred: 9\n"
     ]
    },
    {
     "data": {
      "image/png": "[encoded data removed]",
      "text/plain": [
       "<Figure size 432x288 with 1 Axes>"
      ]
     },
     "metadata": {
      "needs_background": "light"
     },
     "output_type": "display_data"
    },
    {
     "name": "stdout",
     "output_type": "stream",
     "text": [
      "true: 7, pred: 7\n"
     ]
    },
    {
     "data": {
      "image/png": "[encoded data removed]",
      "text/plain": [
       "<Figure size 432x288 with 1 Axes>"
      ]
     },
     "metadata": {
      "needs_background": "light"
     },
     "output_type": "display_data"
    },
    {
     "name": "stdout",
     "output_type": "stream",
     "text": [
      "true: 3, pred: 3\n"
     ]
    },
    {
     "data": {
      "image/png": "[encoded data removed]",
      "text/plain": [
       "<Figure size 432x288 with 1 Axes>"
      ]
     },
     "metadata": {
      "needs_background": "light"
     },
     "output_type": "display_data"
    }
   ],
   "source": [
    "from torchvision import datasets, transforms\n",
    "import torch\n",
    "import numpy as np\n",
    "import matplotlib.pyplot as plt\n",
    "\n",
    "model = torch.load('models/cnn_mnist.pt', map_location=torch.device('cpu'))\n",
    "model.eval()\n",
    "\n",
    "transform=transforms.Compose([\n",
    "        transforms.ToTensor(),\n",
    "        transforms.Normalize((0.1307,), (0.3081,))\n",
    "    ])\n",
    "\n",
    "dataset = datasets.MNIST('data', train=False, transform=transform)\n",
    "dataset_subset = torch.utils.data.Subset(dataset, np.random.choice(len(dataset), 10, replace=False))\n",
    "test_loader = torch.utils.data.DataLoader(dataset_subset, batch_size=1, shuffle=False)\n",
    "\n",
    "for image, label in test_loader:\n",
    "    pred = model(image).argmax(axis=1)\n",
    "    npimg = np.squeeze(np.squeeze(image.numpy()))\n",
    "    plt.imshow(npimg, cmap='gray')\n",
    "    print(f'true: {label[0]}, pred: {pred[0]}')\n",
    "    plt.axis('off')\n",
    "    plt.show()"
   ]
  },
  {
   "cell_type": "code",
   "execution_count": 79,
   "id": "8f5422c6",
   "metadata": {},
   "outputs": [],
   "source": [
    "from torch.nn.modules.conv import Conv2d\n",
    "from torch.nn.modules.linear import Linear\n",
    "from torch.nn.modules.container import Sequential\n",
    "from torchvision.models.resnet import BasicBlock\n",
    "\n",
    "def rand_layers(model, module_paths):\n",
    "    for module_path in module_paths:\n",
    "        cur = model\n",
    "        for name in module_path:\n",
    "            cur = getattr(cur, name)\n",
    "        randomize(cur)\n",
    "        \n",
    "def randomize(layer):\n",
    "    if isinstance(layer, (Conv2d, Linear)):\n",
    "        std, mean = torch.std_mean(layer.weight)\n",
    "        layer.weight = torch.nn.Parameter(torch.empty(layer.weight.size()).normal_(mean=mean.item(),std=std.item()))\n",
    "    elif isinstance(layer, (BasicBlock, Sequential)):\n",
    "        for child in layer.children():\n",
    "            randomize(child)"
   ]
  },
  {
   "cell_type": "code",
   "execution_count": 80,
   "id": "0bf79a49",
   "metadata": {},
   "outputs": [],
   "source": [
    "import torchvision.models as models\n",
    "resnet = models.resnet18(pretrained=True)"
   ]
  },
  {
   "cell_type": "code",
   "execution_count": 82,
   "id": "712fd449",
   "metadata": {
    "scrolled": true
   },
   "outputs": [
    {
     "name": "stdout",
     "output_type": "stream",
     "text": [
      "Parameter containing:\n",
      "tensor([[[[-2.0184e-03,  1.0156e-02, -1.7797e-02],\n",
      "          [ 1.5200e-02, -9.1973e-03,  1.1061e-02],\n",
      "          [ 5.7524e-03, -5.4444e-03, -7.5892e-03]],\n",
      "\n",
      "         [[-8.7565e-03, -7.7979e-03,  1.0326e-02],\n",
      "          [ 1.5131e-02,  1.7407e-03, -9.0403e-03],\n",
      "          [-8.8836e-03, -1.5509e-02,  9.1819e-03]],\n",
      "\n",
      "         [[ 1.4661e-02,  1.3655e-02, -3.2927e-03],\n",
      "          [-8.5866e-03,  8.3069e-03,  1.3303e-02],\n",
      "          [-3.7974e-03, -1.4028e-02, -4.8824e-03]],\n",
      "\n",
      "         ...,\n",
      "\n",
      "         [[ 1.6160e-02, -9.0241e-03,  1.3096e-02],\n",
      "          [-1.4290e-02,  1.1427e-02,  1.7484e-02],\n",
      "          [ 2.5522e-02,  2.0583e-02, -8.3192e-03]],\n",
      "\n",
      "         [[ 7.8679e-03, -1.3005e-03, -1.5690e-02],\n",
      "          [ 8.3131e-03,  5.4875e-03,  6.9276e-03],\n",
      "          [-3.1571e-03,  1.4759e-02, -6.6919e-03]],\n",
      "\n",
      "         [[ 2.5090e-02,  5.7160e-03, -1.5239e-02],\n",
      "          [ 1.9716e-02,  1.8487e-02, -3.6067e-03],\n",
      "          [ 7.0685e-03, -1.1099e-02, -1.4289e-03]]],\n",
      "\n",
      "\n",
      "        [[[ 1.3481e-02,  9.6053e-03,  5.0899e-03],\n",
      "          [-2.1665e-04, -1.0001e-03,  5.6367e-03],\n",
      "          [ 1.0561e-03, -2.3049e-03, -9.9064e-03]],\n",
      "\n",
      "         [[-1.8038e-02,  1.2523e-02,  9.3863e-03],\n",
      "          [ 1.5699e-03,  3.3918e-02,  2.8777e-02],\n",
      "          [-8.8899e-03,  2.0454e-02, -1.6600e-03]],\n",
      "\n",
      "         [[-4.2887e-03, -1.9055e-03, -1.1752e-03],\n",
      "          [ 1.0643e-02, -8.9081e-03, -8.1903e-03],\n",
      "          [ 4.6989e-03, -1.1029e-02,  4.4771e-03]],\n",
      "\n",
      "         ...,\n",
      "\n",
      "         [[-1.0549e-02,  3.4330e-02,  1.6522e-02],\n",
      "          [-1.0488e-02,  1.2370e-03,  6.5989e-03],\n",
      "          [-2.0874e-02, -8.1256e-03,  2.9481e-03]],\n",
      "\n",
      "         [[ 1.8720e-04, -1.1112e-02,  9.4342e-03],\n",
      "          [ 4.3314e-03,  1.8099e-02,  1.7170e-03],\n",
      "          [ 8.1287e-03, -1.3618e-02, -1.6408e-03]],\n",
      "\n",
      "         [[ 1.9940e-02,  1.2949e-02,  8.8914e-03],\n",
      "          [-6.6083e-04, -3.1539e-02, -1.2057e-02],\n",
      "          [ 3.4265e-03,  2.7446e-03,  2.3880e-02]]],\n",
      "\n",
      "\n",
      "        [[[-1.0614e-02, -2.2947e-02, -8.7970e-03],\n",
      "          [-5.5823e-03, -2.3139e-03, -1.8008e-02],\n",
      "          [-2.0545e-02,  1.1838e-02, -7.8980e-03]],\n",
      "\n",
      "         [[ 7.6872e-03, -8.0731e-03, -7.8675e-03],\n",
      "          [-2.2928e-02,  1.2046e-03,  4.0209e-03],\n",
      "          [ 1.9014e-03,  4.7869e-03,  8.8794e-03]],\n",
      "\n",
      "         [[ 1.9955e-02, -1.3258e-02, -1.5383e-02],\n",
      "          [-7.2030e-03,  4.8589e-04,  1.0236e-02],\n",
      "          [-6.7528e-03,  9.0447e-03,  1.0809e-03]],\n",
      "\n",
      "         ...,\n",
      "\n",
      "         [[ 1.5040e-02, -2.0275e-02, -1.6776e-03],\n",
      "          [ 1.8172e-02,  6.4727e-03, -2.4033e-02],\n",
      "          [-8.5829e-03, -5.7031e-03, -5.9026e-03]],\n",
      "\n",
      "         [[ 8.9707e-03,  9.7512e-03,  4.0281e-03],\n",
      "          [-1.9963e-02, -2.8507e-03,  1.2087e-02],\n",
      "          [-1.3475e-02, -1.1017e-02, -8.6792e-03]],\n",
      "\n",
      "         [[-1.7025e-02,  4.9488e-03,  1.0559e-03],\n",
      "          [ 1.0892e-03, -8.0253e-04,  1.6445e-02],\n",
      "          [-7.9513e-03,  6.5520e-04,  1.4718e-02]]],\n",
      "\n",
      "\n",
      "        ...,\n",
      "\n",
      "\n",
      "        [[[-2.5873e-03,  1.6253e-02, -1.0603e-02],\n",
      "          [ 5.2822e-03, -4.3825e-03, -2.1617e-02],\n",
      "          [ 3.5419e-02,  7.9173e-03, -8.2760e-03]],\n",
      "\n",
      "         [[-2.0738e-02, -2.4388e-02,  1.6668e-02],\n",
      "          [ 1.6191e-02,  1.7892e-03, -8.3284e-03],\n",
      "          [-8.2180e-03,  3.1538e-03, -7.0467e-04]],\n",
      "\n",
      "         [[ 1.9130e-03,  1.3127e-02, -1.1289e-02],\n",
      "          [-3.2262e-03, -1.8594e-02,  6.4016e-03],\n",
      "          [-1.1290e-02, -3.3257e-02, -1.1610e-02]],\n",
      "\n",
      "         ...,\n",
      "\n",
      "         [[ 1.0621e-02, -1.2118e-02,  1.1404e-02],\n",
      "          [-2.1275e-02, -1.4530e-02,  2.0803e-02],\n",
      "          [ 4.0088e-03, -1.3870e-02,  2.1983e-02]],\n",
      "\n",
      "         [[-1.4528e-02, -1.9929e-04, -4.0444e-03],\n",
      "          [ 6.6966e-04,  2.0777e-02,  7.7590e-03],\n",
      "          [-6.7473e-03, -4.4231e-04, -6.8321e-03]],\n",
      "\n",
      "         [[-9.7871e-03, -1.4375e-02,  1.4095e-02],\n",
      "          [ 2.1217e-02, -7.3363e-03, -1.1574e-02],\n",
      "          [ 2.0660e-03, -1.3189e-02, -8.6549e-03]]],\n",
      "\n",
      "\n",
      "        [[[ 1.8216e-03,  8.4673e-03,  2.0886e-03],\n",
      "          [ 5.9852e-03, -4.5014e-03, -9.5392e-04],\n",
      "          [ 9.4941e-03,  4.4166e-03, -5.0324e-03]],\n",
      "\n",
      "         [[-9.7697e-03,  2.9056e-02,  1.5833e-02],\n",
      "          [-2.7775e-02,  6.9097e-03,  1.7150e-02],\n",
      "          [-9.5930e-03,  2.3213e-02, -4.4018e-03]],\n",
      "\n",
      "         [[-2.8473e-03,  1.5083e-02, -8.8826e-03],\n",
      "          [-1.6805e-02, -5.5766e-03, -1.0341e-03],\n",
      "          [-7.5844e-03,  2.5003e-03,  5.4134e-03]],\n",
      "\n",
      "         ...,\n",
      "\n",
      "         [[-8.7880e-03, -1.6193e-02, -7.2370e-05],\n",
      "          [ 2.1469e-02,  7.7034e-03,  8.2373e-04],\n",
      "          [-1.9378e-02,  4.7424e-03,  1.7377e-03]],\n",
      "\n",
      "         [[-2.8929e-03, -7.9057e-03, -4.4575e-03],\n",
      "          [ 1.3894e-02, -5.2561e-03, -2.2846e-02],\n",
      "          [-1.0774e-02,  3.0532e-02, -7.3416e-04]],\n",
      "\n",
      "         [[ 1.5102e-05,  8.2779e-03,  1.3157e-02],\n",
      "          [-1.2296e-02, -5.8057e-03, -2.4966e-02],\n",
      "          [ 1.7938e-02, -2.7624e-03,  6.5930e-03]]],\n",
      "\n",
      "\n",
      "        [[[ 2.2773e-02, -3.1451e-03, -2.6096e-02],\n",
      "          [ 1.7961e-03, -7.5520e-03,  1.7260e-02],\n",
      "          [ 1.7200e-02,  1.1218e-04, -4.5421e-03]],\n",
      "\n",
      "         [[-1.0356e-02, -1.3622e-02, -2.8326e-03],\n",
      "          [ 1.3841e-02,  6.6653e-03,  3.6488e-03],\n",
      "          [-1.2291e-02, -1.5975e-02, -9.9868e-03]],\n",
      "\n",
      "         [[-3.2361e-03, -1.4500e-02,  2.3102e-02],\n",
      "          [-3.6254e-03, -2.0813e-02, -1.4324e-02],\n",
      "          [-1.1039e-02,  2.4067e-02, -1.7719e-02]],\n",
      "\n",
      "         ...,\n",
      "\n",
      "         [[ 8.3579e-03,  2.3279e-02,  3.6234e-03],\n",
      "          [-3.2140e-02, -3.4175e-04, -2.1907e-02],\n",
      "          [-2.1525e-02,  8.3776e-03,  3.1303e-02]],\n",
      "\n",
      "         [[-1.0856e-02, -1.0942e-02, -2.9583e-03],\n",
      "          [ 2.4139e-02, -5.0713e-03,  8.7530e-03],\n",
      "          [ 5.9338e-03, -3.7517e-03, -1.8909e-02]],\n",
      "\n",
      "         [[-7.6879e-03, -1.2460e-02, -1.8076e-02],\n",
      "          [ 5.9857e-03,  1.5466e-02, -6.6412e-03],\n",
      "          [-3.1405e-02,  2.1836e-02, -1.1398e-02]]]], requires_grad=True)\n",
      "tensor(-0.0001, grad_fn=<StdMeanBackward>)\n",
      "tensor(0.0132, grad_fn=<StdMeanBackward>)\n",
      "Parameter containing:\n",
      "tensor([[[[-1.2160e-02, -1.2577e-02, -2.9416e-03],\n",
      "          [-4.1873e-03, -2.9888e-03, -1.0688e-02],\n",
      "          [-1.9693e-03, -2.7100e-02,  6.6113e-03]],\n",
      "\n",
      "         [[-1.0523e-02,  1.5660e-02,  2.5715e-02],\n",
      "          [-1.4345e-02,  3.5295e-02, -4.6789e-04],\n",
      "          [-1.7493e-02, -8.9453e-03,  2.0318e-02]],\n",
      "\n",
      "         [[ 2.4747e-02, -2.7383e-03, -9.6444e-03],\n",
      "          [ 9.5684e-03, -1.1802e-02, -5.7715e-03],\n",
      "          [ 1.7109e-02, -7.5400e-03,  1.4783e-03]],\n",
      "\n",
      "         ...,\n",
      "\n",
      "         [[-1.4401e-03, -1.3846e-02, -1.8770e-02],\n",
      "          [-2.2069e-03, -7.7744e-03,  1.5380e-02],\n",
      "          [ 1.3873e-02,  1.0910e-02,  1.4057e-02]],\n",
      "\n",
      "         [[-3.5247e-03,  5.5545e-03, -1.8010e-02],\n",
      "          [ 4.9536e-03, -4.0549e-03, -2.7547e-02],\n",
      "          [-1.1929e-04, -4.3121e-03,  4.7816e-03]],\n",
      "\n",
      "         [[-3.0464e-02,  9.0402e-03,  2.3491e-03],\n",
      "          [-1.0540e-02, -1.3582e-02,  6.9060e-03],\n",
      "          [ 1.5184e-02, -1.4305e-02,  2.6449e-04]]],\n",
      "\n",
      "\n",
      "        [[[ 1.8633e-02,  3.5660e-02,  2.1965e-03],\n",
      "          [-5.5075e-03, -3.1186e-03, -1.7351e-03],\n",
      "          [ 3.3957e-03,  1.0280e-02, -1.4120e-02]],\n",
      "\n",
      "         [[-1.9855e-02, -5.7448e-03, -1.4557e-02],\n",
      "          [ 5.6527e-03,  5.2919e-03,  9.8119e-03],\n",
      "          [ 1.6708e-02,  2.7441e-02,  6.8417e-03]],\n",
      "\n",
      "         [[-1.3057e-02, -1.4109e-02,  1.6556e-02],\n",
      "          [ 5.8105e-03,  2.8836e-02,  1.4552e-02],\n",
      "          [ 1.2986e-02,  3.4607e-03, -7.9385e-03]],\n",
      "\n",
      "         ...,\n",
      "\n",
      "         [[-4.0504e-03,  1.7208e-02, -2.7991e-03],\n",
      "          [-7.8735e-03,  6.5062e-03,  1.7058e-02],\n",
      "          [-8.4809e-03, -1.2016e-02,  6.3330e-03]],\n",
      "\n",
      "         [[-4.4148e-03, -3.5566e-03, -5.5066e-03],\n",
      "          [-2.4527e-03, -4.5394e-03,  4.6189e-03],\n",
      "          [-2.4225e-03,  8.6726e-04, -6.0204e-03]],\n",
      "\n",
      "         [[ 5.2624e-03, -3.0572e-03, -5.9629e-03],\n",
      "          [ 4.0431e-03,  9.2610e-03,  2.3579e-02],\n",
      "          [ 2.6570e-02,  1.3984e-02, -6.3846e-03]]],\n",
      "\n",
      "\n",
      "        [[[ 9.5765e-03,  4.3360e-04,  1.2663e-03],\n",
      "          [-4.2356e-03, -4.2947e-03,  5.8366e-03],\n",
      "          [ 6.5953e-03,  2.6704e-02,  5.0034e-03]],\n",
      "\n",
      "         [[-1.3212e-02, -6.1226e-03,  7.2971e-03],\n",
      "          [ 7.6005e-03,  5.2052e-03, -6.8645e-03],\n",
      "          [ 3.7838e-02, -1.2627e-02,  2.6206e-02]],\n",
      "\n",
      "         [[-2.2297e-02, -6.3164e-03, -1.7398e-03],\n",
      "          [ 3.3997e-03,  3.3879e-03, -5.9294e-03],\n",
      "          [-2.3530e-02,  1.2226e-02,  5.4238e-04]],\n",
      "\n",
      "         ...,\n",
      "\n",
      "         [[ 2.9606e-03,  1.8866e-02, -3.3638e-03],\n",
      "          [ 1.1735e-02,  9.1352e-03,  5.8630e-04],\n",
      "          [ 1.3280e-03, -1.1948e-02,  9.1366e-03]],\n",
      "\n",
      "         [[ 1.6102e-02,  6.8113e-03, -1.4942e-02],\n",
      "          [ 5.5966e-03, -3.1985e-03, -1.0672e-03],\n",
      "          [ 2.7440e-02, -2.1289e-02,  2.5382e-02]],\n",
      "\n",
      "         [[-2.9487e-03,  6.8860e-03, -2.5109e-02],\n",
      "          [-1.8717e-02,  2.0334e-03,  8.7226e-04],\n",
      "          [-5.8282e-03,  1.3908e-02, -6.0673e-03]]],\n",
      "\n",
      "\n",
      "        ...,\n",
      "\n",
      "\n",
      "        [[[-2.1719e-02,  6.5729e-03,  1.7552e-02],\n",
      "          [ 3.5055e-03, -2.0528e-02, -2.7773e-02],\n",
      "          [-3.8691e-04, -1.1533e-02, -3.7243e-03]],\n",
      "\n",
      "         [[ 2.1300e-03,  1.3178e-02,  1.5538e-02],\n",
      "          [ 1.4471e-02,  3.5603e-02,  5.4654e-03],\n",
      "          [ 6.8988e-03, -4.8732e-03, -4.2067e-03]],\n",
      "\n",
      "         [[ 1.5452e-02, -5.3549e-03, -2.1123e-02],\n",
      "          [-8.0644e-03, -2.5658e-02,  9.6625e-03],\n",
      "          [ 1.0403e-02,  5.7459e-04,  1.4200e-02]],\n",
      "\n",
      "         ...,\n",
      "\n",
      "         [[-6.4806e-04,  8.0783e-03,  6.1198e-03],\n",
      "          [-8.7589e-03,  7.3579e-03, -9.3770e-03],\n",
      "          [ 1.1183e-02, -1.0204e-02, -1.0495e-04]],\n",
      "\n",
      "         [[-4.3029e-02,  1.3861e-02, -1.4132e-02],\n",
      "          [ 6.2151e-03, -1.3377e-02,  6.8586e-03],\n",
      "          [ 1.3147e-02,  8.0456e-03, -4.3870e-04]],\n",
      "\n",
      "         [[ 4.2776e-03,  2.4246e-02,  4.9300e-03],\n",
      "          [ 1.3489e-02, -1.9302e-02, -1.1963e-02],\n",
      "          [-1.5959e-02, -1.6590e-03,  8.7883e-03]]],\n",
      "\n",
      "\n",
      "        [[[-1.2641e-02,  6.6611e-03, -1.3441e-02],\n",
      "          [-1.8342e-03, -1.7822e-02,  1.5778e-02],\n",
      "          [ 8.6815e-03,  3.0931e-03,  1.9507e-03]],\n",
      "\n",
      "         [[-9.9335e-03,  1.6396e-02, -1.7694e-03],\n",
      "          [-1.5484e-02, -1.8952e-03,  1.0895e-04],\n",
      "          [ 4.3684e-03,  6.9105e-03, -1.6286e-02]],\n",
      "\n",
      "         [[ 1.3552e-02, -7.7713e-03,  1.3103e-02],\n",
      "          [ 2.0612e-03,  1.0513e-03,  4.6492e-04],\n",
      "          [-5.2409e-03, -3.2178e-02, -2.5749e-02]],\n",
      "\n",
      "         ...,\n",
      "\n",
      "         [[-1.2431e-02,  3.4017e-03, -8.9823e-03],\n",
      "          [ 6.2435e-03, -6.0975e-03,  4.8704e-03],\n",
      "          [-5.4329e-03, -4.3194e-03, -3.0947e-03]],\n",
      "\n",
      "         [[-1.8452e-03, -1.0349e-02, -6.2257e-03],\n",
      "          [-1.0104e-02,  2.2031e-02,  1.3241e-02],\n",
      "          [ 6.3527e-03,  7.8170e-03,  4.4644e-03]],\n",
      "\n",
      "         [[-1.3090e-02,  5.4343e-03, -2.3419e-02],\n",
      "          [-1.2521e-02, -3.0238e-03, -9.3795e-04],\n",
      "          [-1.2768e-02, -4.1741e-02, -9.2462e-03]]],\n",
      "\n",
      "\n",
      "        [[[ 1.1459e-02, -8.5372e-04,  2.3131e-02],\n",
      "          [ 1.3881e-03,  1.8347e-03, -1.0356e-02],\n",
      "          [ 8.2428e-03, -4.0003e-05, -2.3976e-02]],\n",
      "\n",
      "         [[ 6.0719e-03, -9.4339e-03, -4.8775e-03],\n",
      "          [-2.5553e-03,  8.9181e-03, -1.1183e-02],\n",
      "          [-1.2478e-02, -6.4796e-03, -2.9190e-03]],\n",
      "\n",
      "         [[-1.0618e-03,  1.7883e-02, -9.3820e-03],\n",
      "          [-1.7029e-02,  1.6508e-02,  7.0941e-03],\n",
      "          [-1.2993e-03, -2.8272e-02,  1.1833e-02]],\n",
      "\n",
      "         ...,\n",
      "\n",
      "         [[-2.4746e-03,  1.9705e-02, -3.8980e-03],\n",
      "          [-4.9279e-03,  2.3104e-02,  1.6986e-02],\n",
      "          [-7.5407e-03, -7.5957e-04,  1.0551e-02]],\n",
      "\n",
      "         [[-4.1394e-03, -4.3288e-03, -2.3167e-02],\n",
      "          [ 1.4268e-02, -5.9897e-03,  2.7891e-03],\n",
      "          [ 1.3690e-02, -2.6837e-03, -1.1163e-02]],\n",
      "\n",
      "         [[ 4.5681e-03,  1.4682e-02,  1.9001e-02],\n",
      "          [ 1.8303e-02, -9.5009e-04, -1.9642e-02],\n",
      "          [-1.9611e-02, -4.5099e-03,  1.9621e-02]]]], requires_grad=True)\n",
      "tensor(-0.0001, grad_fn=<StdMeanBackward>)\n",
      "tensor(0.0132, grad_fn=<StdMeanBackward>)\n"
     ]
    }
   ],
   "source": [
    "print(resnet.layer4[1].conv2.weight)\n",
    "rand_layers(resnet, [['fc'], ['layer4', '1']])\n",
    "print(resnet.layer4[1].conv2.weight)"
   ]
  },
  {
   "cell_type": "code",
   "execution_count": 85,
   "id": "3ccb8728",
   "metadata": {},
   "outputs": [
    {
     "data": {
      "text/plain": [
       "Sequential(\n",
       "  (0): Conv2d(1, 32, kernel_size=(5, 5), stride=(1, 1), padding=(2, 2))\n",
       "  (1): ReLU()\n",
       "  (2): MaxPool2d(kernel_size=2, stride=2, padding=0, dilation=1, ceil_mode=False)\n",
       "  (3): Conv2d(32, 64, kernel_size=(5, 5), stride=(1, 1), padding=(2, 2))\n",
       "  (4): ReLU()\n",
       "  (5): MaxPool2d(kernel_size=2, stride=2, padding=0, dilation=1, ceil_mode=False)\n",
       "  (6): Flatten(start_dim=1, end_dim=-1)\n",
       "  (7): Linear(in_features=3136, out_features=1024, bias=True)\n",
       "  (8): ReLU()\n",
       "  (9): Linear(in_features=1024, out_features=10, bias=True)\n",
       ")"
      ]
     },
     "execution_count": 85,
     "metadata": {},
     "output_type": "execute_result"
    }
   ],
   "source": [
    "model"
   ]
  },
  {
   "cell_type": "code",
   "execution_count": 84,
   "id": "6cf4b30b",
   "metadata": {},
   "outputs": [
    {
     "name": "stdout",
     "output_type": "stream",
     "text": [
      "Parameter containing:\n",
      "tensor([[ 0.0391,  0.0133,  0.0003,  ..., -0.0174,  0.0240, -0.0504],\n",
      "        [ 0.0533,  0.0319, -0.0336,  ...,  0.0105, -0.0105,  0.0065],\n",
      "        [-0.0305,  0.0003, -0.0082,  ...,  0.0383, -0.0033, -0.0018],\n",
      "        ...,\n",
      "        [ 0.0472,  0.0108, -0.0460,  ..., -0.0641,  0.0164, -0.0628],\n",
      "        [ 0.0057,  0.0244,  0.0394,  ...,  0.0432,  0.0251,  0.0316],\n",
      "        [-0.0071, -0.0386, -0.0846,  ..., -0.0622,  0.0086,  0.0065]],\n",
      "       requires_grad=True)\n",
      "Parameter containing:\n",
      "tensor([[ 0.0293,  0.0218, -0.0153,  ..., -0.0191,  0.0145,  0.0103],\n",
      "        [-0.0319, -0.0144,  0.0183,  ..., -0.0015, -0.0161, -0.0094],\n",
      "        [ 0.0195, -0.0278,  0.0368,  ...,  0.0727, -0.0332, -0.0172],\n",
      "        ...,\n",
      "        [-0.0237, -0.0578, -0.0413,  ...,  0.0146, -0.0244,  0.0207],\n",
      "        [ 0.0310,  0.0665, -0.0226,  ..., -0.0189,  0.0232,  0.0119],\n",
      "        [-0.0503, -0.0096,  0.0731,  ..., -0.0574,  0.0207,  0.0091]],\n",
      "       requires_grad=True)\n"
     ]
    }
   ],
   "source": [
    "module_paths = [['linear2'], ['linear1'], ['conv2'], ['conv1']]\n",
    "\n",
    "print(model[9].weight)\n",
    "rand_layers(model, [['9']])\n",
    "print(model[9].weight)"
   ]
  },
  {
   "cell_type": "code",
   "execution_count": 47,
   "id": "752b0895",
   "metadata": {
    "scrolled": false
   },
   "outputs": [
    {
     "name": "stdout",
     "output_type": "stream",
     "text": [
      "<generator object Module.children at 0x7f0daf55eba0>\n"
     ]
    },
    {
     "ename": "AttributeError",
     "evalue": "'Sequential' object has no attribute 'downsample'",
     "output_type": "error",
     "traceback": [
      "\u001b[0;31m---------------------------------------------------------------------------\u001b[0m",
      "\u001b[0;31mAttributeError\u001b[0m                            Traceback (most recent call last)",
      "\u001b[0;32m<ipython-input-47-305c5f44aee1>\u001b[0m in \u001b[0;36m<module>\u001b[0;34m\u001b[0m\n\u001b[1;32m     15\u001b[0m     \u001b[0;32mif\u001b[0m \u001b[0misinstance\u001b[0m\u001b[0;34m(\u001b[0m\u001b[0mk\u001b[0m\u001b[0;34m,\u001b[0m \u001b[0mtorch\u001b[0m\u001b[0;34m.\u001b[0m\u001b[0mnn\u001b[0m\u001b[0;34m.\u001b[0m\u001b[0mmodules\u001b[0m\u001b[0;34m.\u001b[0m\u001b[0mcontainer\u001b[0m\u001b[0;34m.\u001b[0m\u001b[0mSequential\u001b[0m\u001b[0;34m)\u001b[0m\u001b[0;34m:\u001b[0m\u001b[0;34m\u001b[0m\u001b[0;34m\u001b[0m\u001b[0m\n\u001b[1;32m     16\u001b[0m         \u001b[0mprint\u001b[0m\u001b[0;34m(\u001b[0m\u001b[0mk\u001b[0m\u001b[0;34m.\u001b[0m\u001b[0mchildren\u001b[0m\u001b[0;34m(\u001b[0m\u001b[0;34m)\u001b[0m\u001b[0;34m)\u001b[0m\u001b[0;34m\u001b[0m\u001b[0;34m\u001b[0m\u001b[0m\n\u001b[0;32m---> 17\u001b[0;31m         \u001b[0mprint\u001b[0m\u001b[0;34m(\u001b[0m\u001b[0mk\u001b[0m\u001b[0;34m.\u001b[0m\u001b[0mdownsample\u001b[0m\u001b[0;34m)\u001b[0m\u001b[0;34m\u001b[0m\u001b[0;34m\u001b[0m\u001b[0m\n\u001b[0m\u001b[1;32m     18\u001b[0m \u001b[0;31m#         for l in k.modules():\u001b[0m\u001b[0;34m\u001b[0m\u001b[0;34m\u001b[0m\u001b[0;34m\u001b[0m\u001b[0m\n\u001b[1;32m     19\u001b[0m \u001b[0;31m#             print(l)\u001b[0m\u001b[0;34m\u001b[0m\u001b[0;34m\u001b[0m\u001b[0;34m\u001b[0m\u001b[0m\n",
      "\u001b[0;32m~/miniconda3/envs/sanity_checks_pytorch/lib/python3.9/site-packages/torch/nn/modules/module.py\u001b[0m in \u001b[0;36m__getattr__\u001b[0;34m(self, name)\u001b[0m\n\u001b[1;32m   1128\u001b[0m             \u001b[0;32mif\u001b[0m \u001b[0mname\u001b[0m \u001b[0;32min\u001b[0m \u001b[0mmodules\u001b[0m\u001b[0;34m:\u001b[0m\u001b[0;34m\u001b[0m\u001b[0;34m\u001b[0m\u001b[0m\n\u001b[1;32m   1129\u001b[0m                 \u001b[0;32mreturn\u001b[0m \u001b[0mmodules\u001b[0m\u001b[0;34m[\u001b[0m\u001b[0mname\u001b[0m\u001b[0;34m]\u001b[0m\u001b[0;34m\u001b[0m\u001b[0;34m\u001b[0m\u001b[0m\n\u001b[0;32m-> 1130\u001b[0;31m         raise AttributeError(\"'{}' object has no attribute '{}'\".format(\n\u001b[0m\u001b[1;32m   1131\u001b[0m             type(self).__name__, name))\n\u001b[1;32m   1132\u001b[0m \u001b[0;34m\u001b[0m\u001b[0m\n",
      "\u001b[0;31mAttributeError\u001b[0m: 'Sequential' object has no attribute 'downsample'"
     ]
    }
   ],
   "source": [
    "from torchviz import make_dot\n",
    "import torchvision\n",
    "\n",
    "x = torch.zeros(1, 3, 224, 224, dtype=torch.float, requires_grad=False)\n",
    "out = resnet(x)\n",
    "# with open('graph', 'wb') as f:\n",
    "#     f.write(make_dot(out))  # plot graph of variable, not of a nn.Module\n",
    "make_dot(out).render(\"attached\", format=\"png\")\n",
    "# arr = [['layer', '0']]\n",
    "# resnet\n",
    "#getattr(getattr(resnet, 'layer1'), '0')\n",
    "for k in resnet.modules():\n",
    "    if isinstance(k, torch.nn.modules.container.Sequential):\n",
    "        print(k.children())\n",
    "        print(k.downsample)\n",
    "#         for l in k.modules():\n",
    "#             print(l)\n",
    "        \n",
    "print(type(resnet.layer4[0].conv1))\n",
    "\n",
    "    \n",
    "#getattr(getattr(getattr(resnet, 'layer1'), '0'), 'conv1')"
   ]
  },
  {
   "cell_type": "code",
   "execution_count": 28,
   "id": "40d743d4",
   "metadata": {},
   "outputs": [
    {
     "name": "stdout",
     "output_type": "stream",
     "text": [
      "Approximation delta:  tensor([0.0016], dtype=torch.float64)\n"
     ]
    },
    {
     "data": {
      "image/png": "[encoded data removed]",
      "text/plain": [
       "<Figure size 432x432 with 2 Axes>"
      ]
     },
     "metadata": {
      "needs_background": "light"
     },
     "output_type": "display_data"
    },
    {
     "name": "stdout",
     "output_type": "stream",
     "text": [
      "Approximation delta:  tensor([0.0103], dtype=torch.float64)\n"
     ]
    },
    {
     "data": {
      "image/png": "[encoded data removed]",
      "text/plain": [
       "<Figure size 432x432 with 2 Axes>"
      ]
     },
     "metadata": {
      "needs_background": "light"
     },
     "output_type": "display_data"
    },
    {
     "name": "stdout",
     "output_type": "stream",
     "text": [
      "Approximation delta:  tensor([0.0231], dtype=torch.float64)\n"
     ]
    },
    {
     "data": {
      "image/png": "[encoded data removed]",
      "text/plain": [
       "<Figure size 432x432 with 2 Axes>"
      ]
     },
     "metadata": {
      "needs_background": "light"
     },
     "output_type": "display_data"
    },
    {
     "name": "stdout",
     "output_type": "stream",
     "text": [
      "Approximation delta:  tensor([0.0327], dtype=torch.float64)\n"
     ]
    },
    {
     "data": {
      "image/png": "[encoded data removed]",
      "text/plain": [
       "<Figure size 432x432 with 2 Axes>"
      ]
     },
     "metadata": {
      "needs_background": "light"
     },
     "output_type": "display_data"
    },
    {
     "name": "stdout",
     "output_type": "stream",
     "text": [
      "Approximation delta:  tensor([0.0161], dtype=torch.float64)\n"
     ]
    },
    {
     "data": {
      "image/png": "[encoded data removed]",
      "text/plain": [
       "<Figure size 432x432 with 2 Axes>"
      ]
     },
     "metadata": {
      "needs_background": "light"
     },
     "output_type": "display_data"
    },
    {
     "name": "stdout",
     "output_type": "stream",
     "text": [
      "Approximation delta:  tensor([0.0360], dtype=torch.float64)\n"
     ]
    },
    {
     "data": {
      "image/png": "[encoded data removed]",
      "text/plain": [
       "<Figure size 432x432 with 2 Axes>"
      ]
     },
     "metadata": {
      "needs_background": "light"
     },
     "output_type": "display_data"
    },
    {
     "name": "stdout",
     "output_type": "stream",
     "text": [
      "Approximation delta:  tensor([0.0025], dtype=torch.float64)\n"
     ]
    },
    {
     "data": {
      "image/png": "[encoded data removed]",
      "text/plain": [
       "<Figure size 432x432 with 2 Axes>"
      ]
     },
     "metadata": {
      "needs_background": "light"
     },
     "output_type": "display_data"
    },
    {
     "name": "stdout",
     "output_type": "stream",
     "text": [
      "Approximation delta:  tensor([0.0176], dtype=torch.float64)\n"
     ]
    },
    {
     "data": {
      "image/png": "[encoded data removed]",
      "text/plain": [
       "<Figure size 432x432 with 2 Axes>"
      ]
     },
     "metadata": {
      "needs_background": "light"
     },
     "output_type": "display_data"
    },
    {
     "name": "stdout",
     "output_type": "stream",
     "text": [
      "Approximation delta:  tensor([0.0065], dtype=torch.float64)\n"
     ]
    },
    {
     "data": {
      "image/png": "[encoded data removed]",
      "text/plain": [
       "<Figure size 432x432 with 2 Axes>"
      ]
     },
     "metadata": {
      "needs_background": "light"
     },
     "output_type": "display_data"
    },
    {
     "name": "stdout",
     "output_type": "stream",
     "text": [
      "Approximation delta:  tensor([0.0196], dtype=torch.float64)\n"
     ]
    },
    {
     "data": {
      "image/png": "[encoded data removed]",
      "text/plain": [
       "<Figure size 432x432 with 2 Axes>"
      ]
     },
     "metadata": {
      "needs_background": "light"
     },
     "output_type": "display_data"
    }
   ],
   "source": [
    "from captum.attr import IntegratedGradients\n",
    "from captum.attr import visualization as viz\n",
    "\n",
    "def attribute_image_features(algorithm, input, label, **kwargs):\n",
    "    model.zero_grad()\n",
    "    tensor_attributions = algorithm.attribute(input, target=label, **kwargs)\n",
    "    \n",
    "    return tensor_attributions\n",
    "\n",
    "ig = IntegratedGradients(model)\n",
    "\n",
    "for image, label in test_loader:\n",
    "    image.requires_grad = True\n",
    "    attr_ig, delta = attribute_image_features(ig, image, label=label, baselines=image * 0, return_convergence_delta=True)\n",
    "    attr_ig = np.transpose(attr_ig.squeeze(0).cpu().detach().numpy(), (1,2,0))\n",
    "    print('Approximation delta: ', abs(delta))\n",
    "    original_image = np.transpose(image.squeeze(0).cpu().detach().numpy(), (1, 2, 0))\n",
    "    _ = viz.visualize_image_attr(attr_ig, original_image, method=\"heat_map\",sign=\"all\",\n",
    "                          show_colorbar=True, title=\"Overlayed Integrated Gradients\")\n"
   ]
  },
  {
   "cell_type": "code",
   "execution_count": null,
   "id": "c6a25e83",
   "metadata": {},
   "outputs": [],
   "source": []
  }
 ],
 "metadata": {
  "kernelspec": {
   "display_name": "Python 3",
   "language": "python",
   "name": "python3"
  },
  "language_info": {
   "codemirror_mode": {
    "name": "ipython",
    "version": 3
   },
   "file_extension": ".py",
   "mimetype": "text/x-python",
   "name": "python",
   "nbconvert_exporter": "python",
   "pygments_lexer": "ipython3",
   "version": "3.9.5"
  }
 },
 "nbformat": 4,
 "nbformat_minor": 5
}
