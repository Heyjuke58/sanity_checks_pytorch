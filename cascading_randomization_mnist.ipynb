{
 "cells": [
  {
   "cell_type": "markdown",
   "source": [
    "# Sanity Checks for Saliency Maps Simple CNN MNIST Example"
   ],
   "metadata": {}
  },
  {
   "cell_type": "code",
   "execution_count": 1,
   "source": [
    "from torchvision import datasets, transforms\n",
    "import copy\n",
    "import torch\n",
    "import numpy as np\n",
    "import matplotlib.pyplot as plt\n",
    "import matplotlib.gridspec as gridspec\n",
    "from src import util\n",
    "from captum.attr import IntegratedGradients, Saliency, InputXGradient, GuidedBackprop, DeepLift\n",
    "\n",
    "# load pretrained model\n",
    "model = torch.load('models/cnn_mnist.pt', map_location=torch.device('cpu'))\n",
    "model.eval()\n",
    "\n",
    "transform=transforms.Compose([\n",
    "        transforms.ToTensor(),\n",
    "        transforms.Normalize((0.1307,), (0.3081,))\n",
    "    ])\n",
    "\n",
    "# load dataset\n",
    "dataset = datasets.MNIST('data', train=False, transform=transform, download=True)\n",
    "dataset_subset = torch.utils.data.Subset(dataset, [1, 0, 2, 3, 4])\n",
    "test_loader = torch.utils.data.DataLoader(dataset_subset, batch_size=1, shuffle=False)\n",
    "\n",
    "# print images in the dataloader:\n",
    "# for image, label in test_loader:\n",
    "#     pred = model(image).argmax(axis=1)\n",
    "#     npimg = np.squeeze(np.squeeze(image.numpy()))\n",
    "#     plt.imshow(npimg, cmap='gray')\n",
    "#     print(f'true: {label[0]}, pred: {pred[0]}')\n",
    "#     plt.axis('off')\n",
    "#     plt.show()"
   ],
   "outputs": [],
   "metadata": {
    "scrolled": true
   }
  },
  {
   "cell_type": "code",
   "execution_count": 7,
   "source": [
    "# model architecture\n",
    "model\n",
    "type(model[1])"
   ],
   "outputs": [
    {
     "output_type": "execute_result",
     "data": {
      "text/plain": [
       "torch.nn.modules.activation.ReLU"
      ]
     },
     "metadata": {},
     "execution_count": 7
    }
   ],
   "metadata": {}
  },
  {
   "cell_type": "code",
   "execution_count": 3,
   "source": [
    "# define module paths for cascading randomization\n",
    "module_paths = [['linear2'], ['linear1'], ['conv2'], ['conv1']]"
   ],
   "outputs": [],
   "metadata": {
    "scrolled": true
   }
  },
  {
   "cell_type": "markdown",
   "source": [
    "## Cascading Randomization: Specific Saliency Map"
   ],
   "metadata": {}
  },
  {
   "cell_type": "code",
   "execution_count": 4,
   "source": [
    "%matplotlib agg\n",
    "# visualize integrated gradients\n",
    "fig, _ = util.visualize_cascading_randomization(model, module_paths, (IntegratedGradients, False), test_loader, cmap='gray')\n",
    "fig.savefig(\"figures/cnn-mnist/integrated_gradients_cascrand.png\", bbox_inches=\"tight\")"
   ],
   "outputs": [
    {
     "output_type": "stream",
     "name": "stderr",
     "text": [
      "/home/konrad/miniconda3/envs/sanity_checks_pytorch/lib/python3.9/site-packages/torch/nn/functional.py:718: UserWarning: Named tensors and all their associated APIs are an experimental feature and subject to change. Please do not use them for anything important until they are released as stable. (Triggered internally at  /opt/conda/conda-bld/pytorch_1623448255797/work/c10/core/TensorImpl.h:1156.)\n",
      "  return torch.max_pool2d(input, kernel_size, stride, padding, dilation, ceil_mode)\n"
     ]
    }
   ],
   "metadata": {}
  },
  {
   "cell_type": "code",
   "execution_count": 5,
   "source": [
    "%matplotlib agg\n",
    "# visualize saliency (gradients)\n",
    "fig, _ = util.visualize_cascading_randomization(model, module_paths, (Saliency, False), test_loader, cmap='gray')\n",
    "fig.savefig(\"figures/cnn-mnist/saliency_cascrand.png\", bbox_inches=\"tight\")"
   ],
   "outputs": [],
   "metadata": {}
  },
  {
   "cell_type": "markdown",
   "source": [
    "# Cascading Randomization: Multiple Saliency Maps"
   ],
   "metadata": {}
  },
  {
   "cell_type": "code",
   "execution_count": 6,
   "source": [
    "%matplotlib agg\n",
    "# multiple saliency maps for each example\n",
    "for image, label in test_loader:\n",
    "    fig, _ = util.visualize_cascading_randomization2(\n",
    "        model,\n",
    "        module_paths,\n",
    "        [(Saliency, False), (Saliency, True), (InputXGradient, False), (InputXGradient, True), (GuidedBackprop, False), (IntegratedGradients, False), (IntegratedGradients, True)],\n",
    "        ['Gradient', 'SmoothGrad', 'Gradient ⊙ Input', 'Gradient ⊙ Input-SG', 'Guided Back-propagation', 'Integrated Gradients', 'Integrated Gradients-SG'],\n",
    "        (image, label),\n",
    "        cmap='gray'\n",
    "    )\n",
    "    fig.savefig(\"figures/cnn-mnist/cascrand.png\", bbox_inches=\"tight\")\n",
    "    break"
   ],
   "outputs": [
    {
     "output_type": "stream",
     "name": "stderr",
     "text": [
      "/home/konrad/miniconda3/envs/sanity_checks_pytorch/lib/python3.9/site-packages/captum/attr/_core/guided_backprop_deconvnet.py:60: UserWarning: Setting backward hooks on ReLU activations.The hooks will be removed after the attribution is finished\n",
      "  warnings.warn(\n"
     ]
    }
   ],
   "metadata": {
    "scrolled": false
   }
  }
 ],
 "metadata": {
  "interpreter": {
   "hash": "11fbf37fbd24df55005c3b93a6722ff80f8e94e0a7328b0b9ff32e8c2e8e8123"
  },
  "kernelspec": {
   "name": "python3",
   "display_name": "Python 3.9.5 64-bit ('sanity_checks_pytorch': conda)"
  },
  "language_info": {
   "codemirror_mode": {
    "name": "ipython",
    "version": 3
   },
   "file_extension": ".py",
   "mimetype": "text/x-python",
   "name": "python",
   "nbconvert_exporter": "python",
   "pygments_lexer": "ipython3",
   "version": "3.9.5"
  }
 },
 "nbformat": 4,
 "nbformat_minor": 5
}