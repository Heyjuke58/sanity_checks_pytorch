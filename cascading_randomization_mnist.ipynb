{
 "cells": [
  {
   "cell_type": "markdown",
   "id": "e0586d83",
   "metadata": {},
   "source": [
    "# Sanity Checks for Saliency Maps Simple CNN MNIST Example"
   ]
  },
  {
   "cell_type": "code",
   "execution_count": 1,
   "id": "42e8ff1f",
   "metadata": {
    "scrolled": true
   },
   "outputs": [],
   "source": [
    "from torchvision import datasets, transforms\n",
    "import copy\n",
    "import torch\n",
    "import numpy as np\n",
    "import matplotlib.pyplot as plt\n",
    "import matplotlib.gridspec as gridspec\n",
    "from src import util\n",
    "from captum.attr import IntegratedGradients, Saliency, InputXGradient, GuidedBackprop, DeepLift\n",
    "\n",
    "# load pretrained model\n",
    "model = torch.load('models/cnn_mnist.pt', map_location=torch.device('cpu'))\n",
    "model.eval()\n",
    "\n",
    "transform=transforms.Compose([\n",
    "        transforms.ToTensor(),\n",
    "        transforms.Normalize((0.1307,), (0.3081,))\n",
    "    ])\n",
    "\n",
    "# load dataset\n",
    "dataset = datasets.MNIST('data', train=False, transform=transform, download=True)\n",
    "np.random.seed(1234)\n",
    "dataset_subset = torch.utils.data.Subset(dataset, np.random.choice(len(dataset), 5, replace=False))\n",
    "test_loader = torch.utils.data.DataLoader(dataset_subset, batch_size=1, shuffle=False)\n",
    "\n",
    "# print few examples\n",
    "# for image, label in test_loader:\n",
    "#     pred = model(image).argmax(axis=1)\n",
    "#     npimg = np.squeeze(np.squeeze(image.numpy()))\n",
    "#     plt.imshow(npimg, cmap='gray')\n",
    "#     print(f'true: {label[0]}, pred: {pred[0]}')\n",
    "#     plt.axis('off')\n",
    "#     plt.show()"
   ]
  },
  {
   "cell_type": "code",
   "execution_count": 2,
   "id": "e7ca8dce",
   "metadata": {},
   "outputs": [
    {
     "data": {
      "text/plain": [
       "Sequential(\n",
       "  (conv1): Conv2d(1, 32, kernel_size=(5, 5), stride=(1, 1), padding=(2, 2))\n",
       "  (relu1): ReLU()\n",
       "  (maxpool1): MaxPool2d(kernel_size=2, stride=2, padding=0, dilation=1, ceil_mode=False)\n",
       "  (conv2): Conv2d(32, 64, kernel_size=(5, 5), stride=(1, 1), padding=(2, 2))\n",
       "  (relu2): ReLU()\n",
       "  (maxpool2): MaxPool2d(kernel_size=2, stride=2, padding=0, dilation=1, ceil_mode=False)\n",
       "  (flatten): Flatten(start_dim=1, end_dim=-1)\n",
       "  (linear1): Linear(in_features=3136, out_features=1024, bias=True)\n",
       "  (relu3): ReLU()\n",
       "  (linear2): Linear(in_features=1024, out_features=10, bias=True)\n",
       ")"
      ]
     },
     "execution_count": 2,
     "metadata": {},
     "output_type": "execute_result"
    }
   ],
   "source": [
    "# model architecture\n",
    "model"
   ]
  },
  {
   "cell_type": "code",
   "execution_count": 3,
   "id": "53449f5e",
   "metadata": {
    "scrolled": true
   },
   "outputs": [],
   "source": [
    "# define module paths for cascading randomization\n",
    "module_paths = [['linear2'], ['linear1'], ['conv2'], ['conv1']]"
   ]
  },
  {
   "cell_type": "markdown",
   "id": "4671303d",
   "metadata": {},
   "source": [
    "## Cascading Randomization: Specific Saliency Map"
   ]
  },
  {
   "cell_type": "code",
   "execution_count": 4,
   "id": "53a36560",
   "metadata": {},
   "outputs": [
    {
     "name": "stderr",
     "output_type": "stream",
     "text": [
      "/home/asubuntus/miniconda3/envs/sanity_checks_pytorch/lib/python3.9/site-packages/torch/nn/functional.py:718: UserWarning: Named tensors and all their associated APIs are an experimental feature and subject to change. Please do not use them for anything important until they are released as stable. (Triggered internally at  /opt/conda/conda-bld/pytorch_1623448255797/work/c10/core/TensorImpl.h:1156.)\n",
      "  return torch.max_pool2d(input, kernel_size, stride, padding, dilation, ceil_mode)\n"
     ]
    }
   ],
   "source": [
    "%matplotlib agg\n",
    "# visualize integrated gradients\n",
    "fig, _ = util.visualize_cascading_randomization(model, module_paths, (IntegratedGradients, False), test_loader, cmap='gray')\n",
    "fig.savefig(\"figures/cnn-mnist/integrated_gradients_cascrand.png\", bbox_inches=\"tight\")"
   ]
  },
  {
   "cell_type": "code",
   "execution_count": 5,
   "id": "bf40c40a",
   "metadata": {},
   "outputs": [],
   "source": [
    "%matplotlib agg\n",
    "# visualize saliency (gradients)\n",
    "fig, _ = util.visualize_cascading_randomization(model, module_paths, (Saliency, False), test_loader, cmap='gray')\n",
    "fig.savefig(\"figures/cnn-mnist/saliency_cascrand.png\", bbox_inches=\"tight\")"
   ]
  },
  {
   "cell_type": "markdown",
   "id": "210af70c",
   "metadata": {},
   "source": [
    "# Cascading Randomization: Multiple Saliency Maps"
   ]
  },
  {
   "cell_type": "code",
   "execution_count": null,
   "id": "6458dc96",
   "metadata": {
    "scrolled": false
   },
   "outputs": [],
   "source": [
    "%matplotlib agg\n",
    "# multiple saliency maps for each example\n",
    "for image, label in test_loader:\n",
    "    fig, _ = util.visualize_cascading_randomization2(\n",
    "        model,\n",
    "        module_paths,\n",
    "        [(Saliency, False), (Saliency, True), (InputXGradient, False), (InputXGradient, True), (GuidedBackprop, False), (IntegratedGradients, False), (IntegratedGradients, True)],\n",
    "        ['Gradient', 'SmoothGrad', 'Gradient ⊙ Input', 'Gradient ⊙ Input-SG', 'Guided Back-propagation', 'Integrated Gradients', 'Integrated Gradients-SG'],\n",
    "        (image, label),\n",
    "        cmap='gray'\n",
    "    )\n",
    "    fig.savefig(\"figures/cnn-mnist/cascrand.png\", bbox_inches=\"tight\")\n",
    "    break"
   ]
  },
  {
   "cell_type": "code",
   "execution_count": null,
   "id": "d7034194",
   "metadata": {},
   "outputs": [],
   "source": []
  }
 ],
 "metadata": {
  "interpreter": {
   "hash": "11fbf37fbd24df55005c3b93a6722ff80f8e94e0a7328b0b9ff32e8c2e8e8123"
  },
  "kernelspec": {
   "display_name": "Python 3",
   "language": "python",
   "name": "python3"
  },
  "language_info": {
   "codemirror_mode": {
    "name": "ipython",
    "version": 3
   },
   "file_extension": ".py",
   "mimetype": "text/x-python",
   "name": "python",
   "nbconvert_exporter": "python",
   "pygments_lexer": "ipython3",
   "version": "3.9.5"
  }
 },
 "nbformat": 4,
 "nbformat_minor": 5
}
